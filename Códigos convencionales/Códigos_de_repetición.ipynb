{
  "nbformat": 4,
  "nbformat_minor": 0,
  "metadata": {
    "colab": {
      "provenance": [],
      "authorship_tag": "ABX9TyN3m2QylX2IJx2OPG/yrUm0",
      "include_colab_link": true
    },
    "kernelspec": {
      "name": "python3",
      "display_name": "Python 3"
    },
    "language_info": {
      "name": "python"
    }
  },
  "cells": [
    {
      "cell_type": "markdown",
      "metadata": {
        "id": "view-in-github",
        "colab_type": "text"
      },
      "source": [
        "<a href=\"https://colab.research.google.com/github/TesisDeepcodeUcuenca/Tesis-Deepcode-Ucuenca/blob/main/C%C3%B3digos%20convencionales/C%C3%B3digos_de_repetici%C3%B3n.ipynb\" target=\"_parent\"><img src=\"https://colab.research.google.com/assets/colab-badge.svg\" alt=\"Open In Colab\"/></a>"
      ]
    },
    {
      "cell_type": "code",
      "execution_count": null,
      "metadata": {
        "id": "MgCCMQoWfLGr"
      },
      "outputs": [],
      "source": [
        "#@title Códigos de repetición\n",
        "\n",
        "import random\n",
        "import pandas as pd\n",
        "import numpy as np\n",
        "from tqdm import tqdm\n",
        "import csv\n",
        "\n",
        "\n",
        "def canal_bsc(mensaje, ruido):\n",
        "    msg_canal_bits = np.bitwise_xor(mensaje, ruido)\n",
        "    return msg_canal_bits\n",
        "\n",
        "def calculate_ber(original_bits, decoded_bits):\n",
        "    error_count = sum([x != y for x, y in zip(original_bits, decoded_bits)])\n",
        "    ber = error_count / len(original_bits)\n",
        "    return ber\n",
        "def guardar_matriz_en_csv(matriz, nombre_archivo):\n",
        "    # Convertir la matriz a un DataFrame de pandas\n",
        "    df = pd.DataFrame(matriz.T)  # Transponer para que cada columna corresponda a una probabilidad\n",
        "\n",
        "    # Asignar nombres a las columnas como Probabilidad 1, Probabilidad 2, etc.\n",
        "    df.columns = [f'Probabilidad {i + 1}' for i in range(matriz.shape[0])]\n",
        "\n",
        "    # Guardar el DataFrame en un archivo CSV\n",
        "    df.to_csv(nombre_archivo, index=False)\n",
        "def repetition_encoder(message, repeat_factor):\n",
        "    return np.repeat(message, repeat_factor)\n",
        "def repetition_decoder(received_bits, repeat_factor):\n",
        "    decoded_bits = np.reshape(received_bits, (len(received_bits) // repeat_factor, repeat_factor))\n",
        "    decoded_bits = np.sum(decoded_bits, axis=1) > repeat_factor // 2\n",
        "    return decoded_bits.astype(int)\n",
        "\n",
        "\n",
        "def tanda_train(batch_size, block_len, code_rate, qs, _, progreso_tanda):\n",
        "    ber_q = np.zeros((len(qs), batch_size))\n",
        "    for j, q in enumerate(qs):\n",
        "        data = np.random.randint(0, 2, (batch_size, block_len, 1))\n",
        "        noise = np.random.binomial(1, q, size=(batch_size, (block_len*code_rate) , 1)).astype(int)\n",
        "        for i in range(0, batch_size):\n",
        "            progreso_tanda.update(1)\n",
        "            raw_data = (data[i:i+1, :, :]).squeeze().squeeze()\n",
        "            batch_noise = (noise[i:i+1, :, :]).squeeze().squeeze()\n",
        "            encoded_vector = repetition_encoder(raw_data, 3)\n",
        "            channel_vector = canal_bsc(encoded_vector, batch_noise)\n",
        "            decoded_vector = repetition_decoder(channel_vector, 3)\n",
        "            ber = calculate_ber(raw_data, decoded_vector)\n",
        "            ber_q[j][i] = ber\n",
        "    return ber_q\n",
        "\n",
        "def guardar_csv(data, filename):\n",
        "    filepath = filename  # Ajusta la ruta según dónde quieras guardar el archivo\n",
        "    with open(filepath, mode='w', newline='') as file:\n",
        "        writer = csv.writer(file)\n",
        "        writer.writerow(['Q values', 'Average BER'])\n",
        "        for row in data:\n",
        "            writer.writerow(row)\n",
        "\n",
        "\n",
        "\n",
        "if __name__ == \"__main__\":\n",
        "    names = [\"repeticion_1_3.csv\"]\n",
        "\n",
        "    for name in names:\n",
        "        block_len = 50\n",
        "        batch_size = 100\n",
        "        code_rate = 3\n",
        "        qs = np.linspace(0.0001, 0.15, 20)\n",
        "        num_epoch_test = 100\n",
        "\n",
        "        arrays_q_x3 = []\n",
        "        print(f\"Total:\", num_epoch_test, \"tandas\")\n",
        "        progreso_tanda = tqdm(total=num_epoch_test*20*batch_size, desc=f\"Progreso GENERAL\")\n",
        "        for _ in range(num_epoch_test):\n",
        "            ber_q_x3 = tanda_train(batch_size, block_len, code_rate, qs, _, progreso_tanda)\n",
        "            arrays_q_x3.append(ber_q_x3)\n",
        "            #progreso_tanda.update(1)\n",
        "\n",
        "        qs_reshaped = qs.reshape(20, 1)\n",
        "\n",
        "        x3_stack = np.hstack(arrays_q_x3)\n",
        "        x3_data = np.hstack((qs_reshaped, x3_stack))\n",
        "        guardar_matriz_en_csv(x3_data, \"repeticion_1_3.csv\")\n",
        "        print(x3_data.shape)"
      ]
    }
  ]
}